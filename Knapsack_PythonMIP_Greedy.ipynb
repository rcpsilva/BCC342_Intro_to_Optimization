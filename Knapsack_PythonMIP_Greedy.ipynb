{
  "nbformat": 4,
  "nbformat_minor": 0,
  "metadata": {
    "colab": {
      "name": "Knapsack_PythonMIP_Greedy.ipynb",
      "provenance": [],
      "collapsed_sections": [],
      "authorship_tag": "ABX9TyNWnDdOUp4JkqD2I3RyUKRy",
      "include_colab_link": true
    },
    "kernelspec": {
      "name": "python3",
      "display_name": "Python 3"
    },
    "language_info": {
      "name": "python"
    }
  },
  "cells": [
    {
      "cell_type": "markdown",
      "metadata": {
        "id": "view-in-github",
        "colab_type": "text"
      },
      "source": [
        "<a href=\"https://colab.research.google.com/github/rcpsilva/BCC342_Intro_to_Optimization/blob/main/Knapsack_PythonMIP_Greedy.ipynb\" target=\"_parent\"><img src=\"https://colab.research.google.com/assets/colab-badge.svg\" alt=\"Open In Colab\"/></a>"
      ]
    },
    {
      "cell_type": "code",
      "metadata": {
        "colab": {
          "base_uri": "https://localhost:8080/"
        },
        "id": "6RKTV3InpqDp",
        "outputId": "2e75a3ee-30a8-45b9-a60a-52e68389b72e"
      },
      "source": [
        "!pip install mip"
      ],
      "execution_count": 1,
      "outputs": [
        {
          "output_type": "stream",
          "text": [
            "Requirement already satisfied: mip in /usr/local/lib/python3.7/dist-packages (1.13.0)\n",
            "Requirement already satisfied: cffi in /usr/local/lib/python3.7/dist-packages (from mip) (1.14.6)\n",
            "Requirement already satisfied: pycparser in /usr/local/lib/python3.7/dist-packages (from cffi->mip) (2.20)\n"
          ],
          "name": "stdout"
        }
      ]
    },
    {
      "cell_type": "code",
      "metadata": {
        "id": "yraGAIpMzv3h"
      },
      "source": [
        "from mip import Model, xsum, maximize, BINARY\n",
        "import numpy as np"
      ],
      "execution_count": 2,
      "outputs": []
    },
    {
      "cell_type": "code",
      "metadata": {
        "id": "9Nu23JGnxy1F"
      },
      "source": [
        "p = [45,35,18,4,10,2]\n",
        "w = [100,50,45,20,10,5]\n",
        "c = 100\n",
        "n = len(p)"
      ],
      "execution_count": 3,
      "outputs": []
    },
    {
      "cell_type": "code",
      "metadata": {
        "id": "3EuFLq2yyI7j"
      },
      "source": [
        "m = Model('Knapsack')"
      ],
      "execution_count": 4,
      "outputs": []
    },
    {
      "cell_type": "code",
      "metadata": {
        "id": "7qONE-CRyQXC"
      },
      "source": [
        "x = [m.add_var(var_type=BINARY) for i in range(n)]\n",
        "\n",
        "m.objective = maximize(xsum(x[i]*p[i] for i in range(n)))\n",
        "\n",
        "m += xsum(x[i]*w[i] for i in range(n)) <= c"
      ],
      "execution_count": 5,
      "outputs": []
    },
    {
      "cell_type": "code",
      "metadata": {
        "colab": {
          "base_uri": "https://localhost:8080/"
        },
        "id": "mnSDgF-_y2qi",
        "outputId": "186a9fe7-66de-40d5-e084-52d50edc8fc4"
      },
      "source": [
        "m.optimize()"
      ],
      "execution_count": 6,
      "outputs": [
        {
          "output_type": "execute_result",
          "data": {
            "text/plain": [
              "<OptimizationStatus.OPTIMAL: 0>"
            ]
          },
          "metadata": {
            "tags": []
          },
          "execution_count": 6
        }
      ]
    },
    {
      "cell_type": "code",
      "metadata": {
        "colab": {
          "base_uri": "https://localhost:8080/"
        },
        "id": "oiehcW3SzVoy",
        "outputId": "26a6c810-5ccd-465c-819f-1778f20717db"
      },
      "source": [
        "print([x[i].x for i in range(n)])"
      ],
      "execution_count": 7,
      "outputs": [
        {
          "output_type": "stream",
          "text": [
            "[0.0, 1.0, 1.0, 0.0, 0.0, 1.0]\n"
          ],
          "name": "stdout"
        }
      ]
    },
    {
      "cell_type": "code",
      "metadata": {
        "colab": {
          "base_uri": "https://localhost:8080/"
        },
        "id": "8TqTiXthy8Qr",
        "outputId": "6a74b131-25c8-430b-b47c-3bad0f5f0f49"
      },
      "source": [
        "selected = [i for i in range(n) if x[i].x >= 0.99]\n",
        "selected"
      ],
      "execution_count": 8,
      "outputs": [
        {
          "output_type": "execute_result",
          "data": {
            "text/plain": [
              "[1, 2, 5]"
            ]
          },
          "metadata": {
            "tags": []
          },
          "execution_count": 8
        }
      ]
    },
    {
      "cell_type": "code",
      "metadata": {
        "id": "vj4HkoZAzjX7"
      },
      "source": [
        "def brute_force(fobj,n,m,partial_solution=[],best_solution=[],best_val=np.inf,print_sol=False):\n",
        "\n",
        "  if len(partial_solution) == n:\n",
        "    \n",
        "    fx = fobj(partial_solution)\n",
        "    \n",
        "    if print_sol:\n",
        "      print('{} : {}'.format(partial_solution,fx))\n",
        "\n",
        "    if fx <= best_val:\n",
        "      best_solution = partial_solution\n",
        "      best_val = fx\n",
        "\n",
        "    return best_solution,best_val\n",
        "  \n",
        "  else:\n",
        "    for e in np.arange(m):\n",
        "      best_solution,best_val = brute_force(fobj,n,m,partial_solution + [e],\n",
        "                best_solution,\n",
        "                best_val,\n",
        "                print_sol)\n",
        "    \n",
        "    return best_solution,best_val"
      ],
      "execution_count": 9,
      "outputs": []
    },
    {
      "cell_type": "code",
      "metadata": {
        "id": "v4eqMuMVz-sv"
      },
      "source": [
        "fobj = lambda x : -np.sum([x[i]*p[i] for i in range(n)]) if np.sum([x[i]*w[i] for i in range(n)]) <= c else np.inf"
      ],
      "execution_count": 11,
      "outputs": []
    },
    {
      "cell_type": "code",
      "metadata": {
        "colab": {
          "base_uri": "https://localhost:8080/"
        },
        "id": "UQnl-bbgztnj",
        "outputId": "6d60f81f-fd28-454f-de39-957edb713302"
      },
      "source": [
        "best_solution,best_val = brute_force(fobj,n,2,print_sol=False)\n",
        "best_solution,best_val"
      ],
      "execution_count": 14,
      "outputs": [
        {
          "output_type": "execute_result",
          "data": {
            "text/plain": [
              "([0, 1, 1, 0, 0, 1], -55)"
            ]
          },
          "metadata": {
            "tags": []
          },
          "execution_count": 14
        }
      ]
    },
    {
      "cell_type": "code",
      "metadata": {
        "id": "jyYTdfv01j-z"
      },
      "source": [
        "def greedy_knapsack(h,n,c):\n",
        "  sol = [0 for i in range(n)]\n",
        "  weight = 0\n",
        "\n",
        "  hs = [h(e) for e in range(n)]\n",
        "\n",
        "  i = 0\n",
        "\n",
        "  while i < n:\n",
        "    item = np.argmax(hs)\n",
        "\n",
        "    weight += w[item]\n",
        "\n",
        "    if weight > c:\n",
        "      hs[item] = -np.inf\n",
        "      weight -= w[item]\n",
        "    else:\n",
        "      sol[item] = 1\n",
        "      hs[item] = -np.inf\n",
        "    \n",
        "    i += 1\n",
        "\n",
        "  return sol"
      ],
      "execution_count": 15,
      "outputs": []
    },
    {
      "cell_type": "code",
      "metadata": {
        "colab": {
          "base_uri": "https://localhost:8080/"
        },
        "id": "Gg22mVWe4I2u",
        "outputId": "246e408f-d004-4d7b-9441-e3615ff65c59"
      },
      "source": [
        "h = lambda e: p[e]\n",
        "sol = greedy_knapsack(h,n,c)\n",
        "print('{} P:{}'.format(sol,-fobj(sol)))"
      ],
      "execution_count": 23,
      "outputs": [
        {
          "output_type": "stream",
          "text": [
            "[1, 0, 0, 0, 0, 0] P:45\n"
          ],
          "name": "stdout"
        }
      ]
    },
    {
      "cell_type": "code",
      "metadata": {
        "colab": {
          "base_uri": "https://localhost:8080/"
        },
        "id": "n3N2LOKu4UqQ",
        "outputId": "939fd78c-bd17-40f1-ac08-925c8bd91e9f"
      },
      "source": [
        "h = lambda e: -w[e]\n",
        "sol = greedy_knapsack(h,n,c)\n",
        "print('{} P:{}'.format(sol,-fobj(sol)))"
      ],
      "execution_count": 22,
      "outputs": [
        {
          "output_type": "stream",
          "text": [
            "[0, 0, 1, 1, 1, 1] P:34\n"
          ],
          "name": "stdout"
        }
      ]
    },
    {
      "cell_type": "code",
      "metadata": {
        "colab": {
          "base_uri": "https://localhost:8080/"
        },
        "id": "5SvaE8wu4eka",
        "outputId": "4b056526-4dce-4b81-b2e1-c682f31ca223"
      },
      "source": [
        "h = lambda e: -w[e]*0.2 + p[e]*0.8\n",
        "sol = greedy_knapsack(h,n,c)\n",
        "print('{} P:{}'.format(sol,-fobj(sol)))"
      ],
      "execution_count": 26,
      "outputs": [
        {
          "output_type": "stream",
          "text": [
            "[0, 1, 0, 1, 1, 1] P:51\n"
          ],
          "name": "stdout"
        }
      ]
    },
    {
      "cell_type": "code",
      "metadata": {
        "colab": {
          "base_uri": "https://localhost:8080/"
        },
        "id": "NhT2EZ4q585p",
        "outputId": "6a8ffb41-3bfc-4b35-948d-73705152339e"
      },
      "source": [
        "h = lambda e: p[e]/w[e] \n",
        "sol = greedy_knapsack(h,n,c)\n",
        "print('{} P:{}'.format(sol,-fobj(sol)))"
      ],
      "execution_count": 25,
      "outputs": [
        {
          "output_type": "stream",
          "text": [
            "[0, 1, 0, 1, 1, 1] P:51\n"
          ],
          "name": "stdout"
        }
      ]
    },
    {
      "cell_type": "code",
      "metadata": {
        "id": "puPthFVE6UD7"
      },
      "source": [
        "def grasp_knapsack(h,n,c,prob=0.4):\n",
        "  sol = [0 for i in range(n)]\n",
        "  weight = 0\n",
        "\n",
        "  hs = [h(e) for e in range(n)]\n",
        "\n",
        "  i = 0\n",
        "\n",
        "  while i < n:\n",
        "    if np.random.rand() <= prob:\n",
        "      item = np.argmax(hs)\n",
        "    else:\n",
        "      item = np.random.randint(n)\n",
        "\n",
        "    weight += w[item]\n",
        "\n",
        "    if weight > c:\n",
        "      hs[item] = -np.inf\n",
        "      weight -= w[item]\n",
        "    else:\n",
        "      sol[item] = 1\n",
        "      hs[item] = -np.inf\n",
        "    \n",
        "    i += 1\n",
        "\n",
        "  return sol"
      ],
      "execution_count": 31,
      "outputs": []
    },
    {
      "cell_type": "code",
      "metadata": {
        "colab": {
          "base_uri": "https://localhost:8080/"
        },
        "id": "bW3IX_kX8CPc",
        "outputId": "3890637f-96f1-4b1a-89e9-68489e161920"
      },
      "source": [
        "h = lambda e: p[e]/w[e] \n",
        "sol = grasp_knapsack(h,n,c,.5)\n",
        "print('{} P:{}'.format(sol,-fobj(sol)))"
      ],
      "execution_count": 53,
      "outputs": [
        {
          "output_type": "stream",
          "text": [
            "[0, 1, 0, 0, 1, 1] P:47\n"
          ],
          "name": "stdout"
        }
      ]
    },
    {
      "cell_type": "code",
      "metadata": {
        "id": "bYga0JE28ICb"
      },
      "source": [
        ""
      ],
      "execution_count": 41,
      "outputs": []
    }
  ]
}