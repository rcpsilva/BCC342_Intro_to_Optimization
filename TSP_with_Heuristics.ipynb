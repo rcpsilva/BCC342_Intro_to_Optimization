{
  "nbformat": 4,
  "nbformat_minor": 0,
  "metadata": {
    "colab": {
      "name": "TSP_with_Heuristics.ipynb",
      "provenance": [],
      "collapsed_sections": [],
      "include_colab_link": true
    },
    "kernelspec": {
      "name": "python3",
      "display_name": "Python 3"
    },
    "language_info": {
      "name": "python"
    }
  },
  "cells": [
    {
      "cell_type": "markdown",
      "metadata": {
        "id": "view-in-github",
        "colab_type": "text"
      },
      "source": [
        "<a href=\"https://colab.research.google.com/github/rcpsilva/BCC342_Intro_to_Optimization/blob/main/TSP_with_Heuristics.ipynb\" target=\"_parent\"><img src=\"https://colab.research.google.com/assets/colab-badge.svg\" alt=\"Open In Colab\"/></a>"
      ]
    },
    {
      "cell_type": "code",
      "metadata": {
        "colab": {
          "base_uri": "https://localhost:8080/"
        },
        "id": "uTDP_I8u4YRm",
        "outputId": "912985d9-d7f2-4184-c38a-39134ff00ebb"
      },
      "source": [
        "!pip install mip"
      ],
      "execution_count": null,
      "outputs": [
        {
          "output_type": "stream",
          "text": [
            "Requirement already satisfied: mip in /usr/local/lib/python3.7/dist-packages (1.13.0)\n",
            "Requirement already satisfied: cffi in /usr/local/lib/python3.7/dist-packages (from mip) (1.14.6)\n",
            "Requirement already satisfied: pycparser in /usr/local/lib/python3.7/dist-packages (from cffi->mip) (2.20)\n"
          ],
          "name": "stdout"
        }
      ]
    },
    {
      "cell_type": "code",
      "metadata": {
        "id": "njakRo7H4apH"
      },
      "source": [
        "import matplotlib.pyplot as plt\n",
        "import numpy as np\n",
        "from itertools import product\n",
        "from sys import stdout as out\n",
        "from mip import Model, xsum, minimize, BINARY, INTEGER"
      ],
      "execution_count": null,
      "outputs": []
    },
    {
      "cell_type": "markdown",
      "metadata": {
        "id": "mPJUjgWiB1so"
      },
      "source": [
        "## Problem Setup"
      ]
    },
    {
      "cell_type": "code",
      "metadata": {
        "colab": {
          "base_uri": "https://localhost:8080/",
          "height": 265
        },
        "id": "z5I6RMnA4nd5",
        "outputId": "59fb32e6-b4a8-450d-f6c0-d0d87238140c"
      },
      "source": [
        "n = 15\n",
        "points = np.random.rand(n,2)\n",
        "\n",
        "for p in points:\n",
        "  plt.plot(p[0],p[1],'bo')"
      ],
      "execution_count": null,
      "outputs": [
        {
          "output_type": "display_data",
          "data": {
            "image/png": "[encoded data removed]",
            "text/plain": [
              "<Figure size 432x288 with 1 Axes>"
            ]
          },
          "metadata": {
            "tags": [],
            "needs_background": "light"
          }
        }
      ]
    },
    {
      "cell_type": "code",
      "metadata": {
        "id": "y6MaWogS4qr6"
      },
      "source": [
        "dist_matrix = [[np.linalg.norm(np.array(p1)-np.array(p2)) for p1 in points] for p2 in points]"
      ],
      "execution_count": null,
      "outputs": []
    },
    {
      "cell_type": "code",
      "metadata": {
        "id": "2ZsD10l942kz"
      },
      "source": [
        "n = len(points)\n",
        "V = set(range(len(points)))"
      ],
      "execution_count": null,
      "outputs": []
    },
    {
      "cell_type": "markdown",
      "metadata": {
        "id": "oGgilT6iByoD"
      },
      "source": [
        "## Python MIP"
      ]
    },
    {
      "cell_type": "code",
      "metadata": {
        "id": "F5WOh_Kn5LV0"
      },
      "source": [
        "model = Model()"
      ],
      "execution_count": null,
      "outputs": []
    },
    {
      "cell_type": "code",
      "metadata": {
        "id": "_KmjeN865d5M"
      },
      "source": [
        "x = [[model.add_var(var_type=BINARY) for j in V] for i in V]\n",
        "y = [model.add_var(var_type=INTEGER,lb=1,ub=n-1) for i in V] "
      ],
      "execution_count": null,
      "outputs": []
    },
    {
      "cell_type": "code",
      "metadata": {
        "id": "lqdfUmSI5wKE"
      },
      "source": [
        "model.objective = minimize(xsum(dist_matrix[i][j]*x[i][j] for i in V for j in V))"
      ],
      "execution_count": null,
      "outputs": []
    },
    {
      "cell_type": "code",
      "metadata": {
        "id": "D6GBxIK76Wxr"
      },
      "source": [
        "for i in V:\n",
        "  model += xsum(x[i][j] for j in V - {i}) == 1 \n",
        "\n",
        "for j in V:\n",
        "  model += xsum(x[i][j] for i in V - {j}) == 1 \n",
        "\n",
        "for (i, j) in product(V - {0}, V - {0}):\n",
        "  if i!=j:\n",
        "    model += y[i] - y[j] + (n+1)*x[i][j] <= n\n"
      ],
      "execution_count": null,
      "outputs": []
    },
    {
      "cell_type": "code",
      "metadata": {
        "colab": {
          "base_uri": "https://localhost:8080/"
        },
        "id": "-F5Iq0fY7h1O",
        "outputId": "3d7308ea-757b-43d7-8a6b-3e423ed9bcd9"
      },
      "source": [
        "model.optimize()\n",
        "model.objective_value"
      ],
      "execution_count": null,
      "outputs": [
        {
          "output_type": "execute_result",
          "data": {
            "text/plain": [
              "2.7729792445881674"
            ]
          },
          "metadata": {
            "tags": []
          },
          "execution_count": 10
        }
      ]
    },
    {
      "cell_type": "code",
      "metadata": {
        "colab": {
          "base_uri": "https://localhost:8080/"
        },
        "id": "hAjymbgo7tgq",
        "outputId": "8acf5043-192f-4a6f-e759-35ab8458acad"
      },
      "source": [
        "for row in x:\n",
        "  vals = [e.x for e in row]\n",
        "  print(vals)"
      ],
      "execution_count": null,
      "outputs": [
        {
          "output_type": "stream",
          "text": [
            "[0.0, 0.0, 0.0, 0.0, 1.0, 0.0, 0.0, 0.0, 0.0, 0.0, 0.0, 0.0, 0.0, 0.0, 0.0]\n",
            "[0.0, 0.0, 0.0, 0.0, 0.0, 1.0, 0.0, 0.0, 0.0, 0.0, 0.0, 0.0, 0.0, 0.0, 0.0]\n",
            "[0.0, 1.0, 0.0, 0.0, 0.0, 0.0, 0.0, 0.0, 0.0, 0.0, 0.0, 0.0, 0.0, 0.0, 0.0]\n",
            "[0.0, 0.0, 0.0, 0.0, 0.0, 0.0, 0.0, 0.0, 0.0, 0.0, 1.0, 0.0, 0.0, 0.0, 0.0]\n",
            "[0.0, 0.0, 0.0, 0.0, 0.0, 0.0, 0.0, 0.0, 0.0, 1.0, 0.0, 0.0, 0.0, 0.0, 0.0]\n",
            "[0.0, 0.0, 0.0, 0.0, 0.0, 0.0, 0.0, 0.0, 0.0, 0.0, 0.0, 0.0, 0.0, 1.0, 0.0]\n",
            "[0.0, 0.0, 0.0, 0.0, 0.0, 0.0, 0.0, 0.0, 0.0, 0.0, 0.0, 1.0, 0.0, 0.0, 0.0]\n",
            "[0.0, 0.0, 0.0, 0.0, 0.0, 0.0, 1.0, 0.0, 0.0, 0.0, 0.0, 0.0, 0.0, 0.0, 0.0]\n",
            "[1.0, 0.0, 0.0, 0.0, 0.0, 0.0, 0.0, 0.0, 0.0, 0.0, 0.0, 0.0, 0.0, 0.0, 0.0]\n",
            "[0.0, 0.0, 1.0, 0.0, 0.0, 0.0, 0.0, 0.0, 0.0, 0.0, 0.0, 0.0, 0.0, 0.0, 0.0]\n",
            "[0.0, 0.0, 0.0, 0.0, 0.0, 0.0, 0.0, 0.0, 0.0, 0.0, 0.0, 0.0, 1.0, 0.0, 0.0]\n",
            "[0.0, 0.0, 0.0, 0.0, 0.0, 0.0, 0.0, 0.0, 0.0, 0.0, 0.0, 0.0, 0.0, 0.0, 1.0]\n",
            "[0.0, 0.0, 0.0, 0.0, 0.0, 0.0, 0.0, 0.0, 1.0, 0.0, 0.0, 0.0, 0.0, 0.0, 0.0]\n",
            "[0.0, 0.0, 0.0, 0.0, 0.0, 0.0, 0.0, 1.0, 0.0, 0.0, 0.0, 0.0, 0.0, 0.0, 0.0]\n",
            "[0.0, 0.0, 0.0, 1.0, 0.0, 0.0, 0.0, 0.0, 0.0, 0.0, 0.0, 0.0, 0.0, 0.0, 0.0]\n"
          ],
          "name": "stdout"
        }
      ]
    },
    {
      "cell_type": "code",
      "metadata": {
        "colab": {
          "base_uri": "https://localhost:8080/",
          "height": 265
        },
        "id": "G3VUeyC-76tS",
        "outputId": "64ac088f-ca7a-476e-8d46-f16722612bcd"
      },
      "source": [
        "for i in range(len(x)):\n",
        "  for j in range(len(x)):\n",
        "    if x[i][j].x == 1:\n",
        "      plt.plot([points[i][0],points[j][0]],[points[i][1],points[j][1]],'bo-')"
      ],
      "execution_count": null,
      "outputs": [
        {
          "output_type": "display_data",
          "data": {
            "image/png": "[encoded data removed]",
            "text/plain": [
              "<Figure size 432x288 with 1 Axes>"
            ]
          },
          "metadata": {
            "tags": [],
            "needs_background": "light"
          }
        }
      ]
    },
    {
      "cell_type": "markdown",
      "metadata": {
        "id": "lHkMkwTPBtiw"
      },
      "source": [
        "## Brute force algorithms"
      ]
    },
    {
      "cell_type": "code",
      "metadata": {
        "id": "PYU2pnBMLWAV"
      },
      "source": [
        "def brute_force(fobj,n,m,partial_solution=[],best_solution=[],best_val=np.inf,print_sol=False):\n",
        "\n",
        "  if len(partial_solution) == n:\n",
        "    \n",
        "    fx = fobj(partial_solution)\n",
        "    \n",
        "    if print_sol:\n",
        "      print('{} : {}'.format(partial_solution,fx))\n",
        "\n",
        "    if fx <= best_val:\n",
        "      best_solution = partial_solution\n",
        "      best_val = fx\n",
        "\n",
        "    return best_solution,best_val\n",
        "  \n",
        "  else:\n",
        "    for e in np.arange(m):\n",
        "      best_solution,best_val = brute_force(fobj,n,m,partial_solution + [e],\n",
        "                best_solution,\n",
        "                best_val,\n",
        "                print_sol)\n",
        "    \n",
        "    return best_solution,best_val\n"
      ],
      "execution_count": null,
      "outputs": []
    },
    {
      "cell_type": "code",
      "metadata": {
        "id": "JODVRs8-OH6k"
      },
      "source": [
        "def brute_force_perm(fobj,n,partial_solution=[],best_solution=[],best_val=np.inf,print_sol=False):\n",
        "\n",
        "  if len(partial_solution) == n:\n",
        "    \n",
        "    fx = fobj(partial_solution)\n",
        "    \n",
        "    if print_sol:\n",
        "      print('{} : {}'.format(partial_solution,fx))\n",
        "\n",
        "    if fx <= best_val:\n",
        "      best_solution = partial_solution\n",
        "      best_val = fx\n",
        "\n",
        "    return best_solution,best_val\n",
        "  \n",
        "  else:\n",
        "    for e in set(np.arange(n)).difference(set(partial_solution)):\n",
        "      best_solution,best_val = brute_force_perm(fobj,n,partial_solution + [e],\n",
        "                best_solution,\n",
        "                best_val,\n",
        "                print_sol)\n",
        "    \n",
        "    return best_solution,best_val\n"
      ],
      "execution_count": null,
      "outputs": []
    },
    {
      "cell_type": "code",
      "metadata": {
        "id": "rL8xa5BTQSKB"
      },
      "source": [
        "# [0,1,2,3,4]\n",
        "def tsp_perm(x):\n",
        "  sum = 0\n",
        "  for i in range(len(x)):\n",
        "    sum += np.linalg.norm(points[x[i]] - points[x[(i+1)%len(x)]])\n",
        "\n",
        "  return sum"
      ],
      "execution_count": null,
      "outputs": []
    },
    {
      "cell_type": "code",
      "metadata": {
        "id": "C8U_xqc4Prhj"
      },
      "source": [
        "#best_solution,best_val = brute_force_perm(tsp_perm,n,print_sol=False)\n",
        "#best_solution,best_val"
      ],
      "execution_count": null,
      "outputs": []
    },
    {
      "cell_type": "code",
      "metadata": {
        "id": "I7PchW8kPr1c"
      },
      "source": [
        "#for i in range(len(best_solution)):\n",
        "#  px = [points[best_solution[i]][0],points[best_solution[(i+1)%len(best_solution)]][0]]\n",
        "#  py = [points[best_solution[i]][1],points[best_solution[(i+1)%len(best_solution)]][1]]\n",
        "  \n",
        "#  plt.plot(px,py,'o-')"
      ],
      "execution_count": null,
      "outputs": []
    },
    {
      "cell_type": "markdown",
      "metadata": {
        "id": "yfXbgJABB9LX"
      },
      "source": [
        "## Constructive heuristics"
      ]
    },
    {
      "cell_type": "code",
      "metadata": {
        "id": "xfuo8M_7LCnH"
      },
      "source": [
        "def plot_perm(perm):\n",
        "  best_solution = perm\n",
        "  for i in range(len(best_solution)):\n",
        "    px = [points[best_solution[i]][0],points[best_solution[(i+1)%len(best_solution)]][0]]\n",
        "    py = [points[best_solution[i]][1],points[best_solution[(i+1)%len(best_solution)]][1]]\n",
        "  \n",
        "    plt.plot(px,py,'bo-')"
      ],
      "execution_count": null,
      "outputs": []
    },
    {
      "cell_type": "code",
      "metadata": {
        "id": "SYm6yrQNEr7w"
      },
      "source": [
        "def greedy_randomized(n,dist_matrix,prob=1):\n",
        "  sol = [0]\n",
        "\n",
        "  for i in range(1,n):\n",
        "    cities = list(set(range(n)).difference(set(sol)))\n",
        "\n",
        "\n",
        "    if np.random.rand() < prob:\n",
        "    \n",
        "      closest_val = np.inf\n",
        "      closest_city = None\n",
        "      for c in cities:\n",
        "        dist = dist_matrix[sol[-1]][c]\n",
        "        if dist <= closest_val: \n",
        "          closest_val = dist\n",
        "          closest_city = c\n",
        "    \n",
        "      sol.append(closest_city)\n",
        "\n",
        "    else:\n",
        "      sol.append(cities[np.random.randint(len(cities))])\n",
        "\n",
        "  return sol\n"
      ],
      "execution_count": null,
      "outputs": []
    },
    {
      "cell_type": "code",
      "metadata": {
        "id": "IalJNojzSe47",
        "colab": {
          "base_uri": "https://localhost:8080/"
        },
        "outputId": "e405d561-a12b-4846-eaf8-7949436d8ef6"
      },
      "source": [
        "greedy = greedy_randomized(n,dist_matrix,prob=1)\n",
        "print('{}, {} , Model: {}'.format(greedy,tsp_perm(greedy),model.objective_value))"
      ],
      "execution_count": null,
      "outputs": [
        {
          "output_type": "stream",
          "text": [
            "[0, 8, 12, 3, 14, 11, 10, 6, 4, 9, 2, 1, 5, 13, 7], 3.064107773257717 , Model: 2.7729792445881674\n"
          ],
          "name": "stdout"
        }
      ]
    },
    {
      "cell_type": "code",
      "metadata": {
        "colab": {
          "base_uri": "https://localhost:8080/",
          "height": 265
        },
        "id": "60RfX5fgKiSH",
        "outputId": "fe81952a-7568-43f1-e8f5-1768f7345a0b"
      },
      "source": [
        "for i in range(len(x)):\n",
        "  for j in range(len(x)):\n",
        "    if x[i][j].x == 1:\n",
        "      plt.plot([points[i][0],points[j][0]],[points[i][1],points[j][1]],'bo-')"
      ],
      "execution_count": null,
      "outputs": [
        {
          "output_type": "display_data",
          "data": {
            "image/png": "[encoded data removed]",
            "text/plain": [
              "<Figure size 432x288 with 1 Axes>"
            ]
          },
          "metadata": {
            "tags": [],
            "needs_background": "light"
          }
        }
      ]
    },
    {
      "cell_type": "code",
      "metadata": {
        "colab": {
          "base_uri": "https://localhost:8080/",
          "height": 265
        },
        "id": "C3-0Y3iIKkkz",
        "outputId": "be756132-328a-4b06-8afa-2187d1bb0b76"
      },
      "source": [
        "plot_perm(greedy)"
      ],
      "execution_count": null,
      "outputs": [
        {
          "output_type": "display_data",
          "data": {
            "image/png": "[encoded data removed]",
            "text/plain": [
              "<Figure size 432x288 with 1 Axes>"
            ]
          },
          "metadata": {
            "tags": [],
            "needs_background": "light"
          }
        }
      ]
    },
    {
      "cell_type": "code",
      "metadata": {
        "colab": {
          "base_uri": "https://localhost:8080/"
        },
        "id": "90dmWWaWKr2c",
        "outputId": "3273dbad-ae4c-4a2a-dc10-66b36cf791fb"
      },
      "source": [
        "greedy_r = greedy_randomized(n,dist_matrix,prob=0.6)\n",
        "print('{}, {} , Model: {}'.format(greedy_r,tsp_perm(greedy_r),model.objective_value))"
      ],
      "execution_count": null,
      "outputs": [
        {
          "output_type": "stream",
          "text": [
            "[0, 8, 1, 2, 9, 10, 14, 11, 3, 12, 4, 7, 5, 13, 6], 4.348559590558463 , Model: 2.7729792445881674\n"
          ],
          "name": "stdout"
        }
      ]
    },
    {
      "cell_type": "code",
      "metadata": {
        "colab": {
          "base_uri": "https://localhost:8080/",
          "height": 265
        },
        "id": "NHBcM1k6LAfF",
        "outputId": "a4963efc-5cb7-462f-b292-2dd7cc3e82bb"
      },
      "source": [
        "plot_perm(greedy_r)"
      ],
      "execution_count": null,
      "outputs": [
        {
          "output_type": "display_data",
          "data": {
            "image/png": "[encoded data removed]",
            "text/plain": [
              "<Figure size 432x288 with 1 Axes>"
            ]
          },
          "metadata": {
            "tags": [],
            "needs_background": "light"
          }
        }
      ]
    },
    {
      "cell_type": "markdown",
      "metadata": {
        "id": "ugHD82BLCArK"
      },
      "source": [
        "## Refinement heuritics"
      ]
    },
    {
      "cell_type": "code",
      "metadata": {
        "id": "R0l8t33cOkJj"
      },
      "source": [
        "from copy import copy"
      ],
      "execution_count": null,
      "outputs": []
    },
    {
      "cell_type": "code",
      "metadata": {
        "id": "JpMB2qO0LVc6"
      },
      "source": [
        "def best_improvement(x,fobj):\n",
        "  x = x.copy()\n",
        "  best_val = np.inf\n",
        "  best_sol = []\n",
        "  improvement = True\n",
        "\n",
        "  while improvement:\n",
        "    improvement = False\n",
        "    for i in range(len(x)):\n",
        "      for j in range(i+1,len(x)):\n",
        "        x[i],x[j] = x[j],x[i]\n",
        "        val = fobj(x)\n",
        "        if val <= best_val:\n",
        "          print(best_val)\n",
        "          best_val = val\n",
        "          best_sol = x.copy()\n",
        "          improvement = True\n",
        "        x[i],x[j] = x[j],x[i]\n",
        "\n",
        "    x = best_sol.copy()\n",
        "\n",
        "  return best_sol"
      ],
      "execution_count": null,
      "outputs": []
    },
    {
      "cell_type": "code",
      "metadata": {
        "colab": {
          "base_uri": "https://localhost:8080/"
        },
        "id": "9a3I4wRAPlFj",
        "outputId": "39273c89-6da4-4984-c12f-e00352fb0cb1"
      },
      "source": [
        "bi = best_improvement(greedy,tsp_perm)"
      ],
      "execution_count": null,
      "outputs": [
        {
          "output_type": "stream",
          "text": [
            "inf\n",
            "3.3051009286459334\n",
            "3.11253757500328\n",
            "3.0887482122696515\n",
            "2.9998651013178277\n",
            "2.9746958781662207\n",
            "2.956166934061071\n"
          ],
          "name": "stdout"
        }
      ]
    },
    {
      "cell_type": "code",
      "metadata": {
        "colab": {
          "base_uri": "https://localhost:8080/"
        },
        "id": "DLU4LJGgP1jN",
        "outputId": "9a6ca111-24c5-44cc-8f26-7fd304e95409"
      },
      "source": [
        "print('Greedy {}, {} , Model: {}'.format(greedy,tsp_perm(greedy),model.objective_value))\n",
        "print('BI {}, {} , Model: {}'.format(bi,tsp_perm(bi),model.objective_value))"
      ],
      "execution_count": null,
      "outputs": [
        {
          "output_type": "stream",
          "text": [
            "Greedy [0, 8, 12, 3, 14, 11, 10, 6, 4, 9, 2, 1, 5, 13, 7], 3.064107773257717 , Model: 2.7729792445881674\n",
            "BI [0, 8, 12, 10, 3, 14, 11, 6, 4, 9, 2, 1, 5, 13, 7], 2.954331323503793 , Model: 2.7729792445881674\n"
          ],
          "name": "stdout"
        }
      ]
    },
    {
      "cell_type": "code",
      "metadata": {
        "colab": {
          "base_uri": "https://localhost:8080/",
          "height": 265
        },
        "id": "kXwG--AAPxbh",
        "outputId": "130b2437-c6f2-4ba6-ccfa-8826796b00e8"
      },
      "source": [
        "plot_perm(greedy)"
      ],
      "execution_count": null,
      "outputs": [
        {
          "output_type": "display_data",
          "data": {
            "image/png": "[encoded data removed]",
            "text/plain": [
              "<Figure size 432x288 with 1 Axes>"
            ]
          },
          "metadata": {
            "tags": [],
            "needs_background": "light"
          }
        }
      ]
    },
    {
      "cell_type": "code",
      "metadata": {
        "colab": {
          "base_uri": "https://localhost:8080/",
          "height": 265
        },
        "id": "7Z-liD4TPx07",
        "outputId": "e22db9ee-f731-4aa5-d378-2f3812187617"
      },
      "source": [
        "plot_perm(bi)"
      ],
      "execution_count": null,
      "outputs": [
        {
          "output_type": "display_data",
          "data": {
            "image/png": "[encoded data removed]",
            "text/plain": [
              "<Figure size 432x288 with 1 Axes>"
            ]
          },
          "metadata": {
            "tags": [],
            "needs_background": "light"
          }
        }
      ]
    },
    {
      "cell_type": "code",
      "metadata": {
        "colab": {
          "base_uri": "https://localhost:8080/"
        },
        "id": "QHa9N_fFQ1XF",
        "outputId": "47090f6a-2375-4d04-dc5b-8ccc9089a138"
      },
      "source": [
        "bi = best_improvement(greedy_r,tsp_perm)"
      ],
      "execution_count": null,
      "outputs": [
        {
          "output_type": "stream",
          "text": [
            "inf\n",
            "4.165627729246312\n",
            "4.1639075813665904\n",
            "4.024219709573646\n",
            "4.014845702872459\n",
            "3.991310512693614\n",
            "3.94742593473098\n",
            "3.7270731518143916\n",
            "3.4943794900662173\n",
            "3.4190558717633244\n",
            "3.383821283897326\n",
            "3.231795165546982\n",
            "3.2003174685907645\n",
            "3.1988859686669504\n",
            "3.0417924921130997\n",
            "3.0103147951568827\n",
            "3.008883295233068\n",
            "3.005324111724728\n",
            "2.882755694342091\n",
            "2.8822196701597322\n",
            "2.851146083836979\n"
          ],
          "name": "stdout"
        }
      ]
    },
    {
      "cell_type": "code",
      "metadata": {
        "colab": {
          "base_uri": "https://localhost:8080/"
        },
        "id": "pJ647KZ3RHDn",
        "outputId": "37a560d3-30b9-4610-979f-7f798224b2aa"
      },
      "source": [
        "print('Greedy {}, {} , Model: {}'.format(greedy_r,tsp_perm(greedy_r),model.objective_value))\n",
        "print('BI {}, {} , Model: {}'.format(bi,tsp_perm(bi),model.objective_value))"
      ],
      "execution_count": null,
      "outputs": [
        {
          "output_type": "stream",
          "text": [
            "Greedy [0, 8, 1, 2, 9, 10, 14, 11, 3, 12, 4, 7, 5, 13, 6], 4.348559590558463 , Model: 2.7729792445881674\n",
            "BI [2, 9, 4, 0, 8, 12, 10, 3, 14, 11, 6, 7, 13, 5, 1], 2.772979244588168 , Model: 2.7729792445881674\n"
          ],
          "name": "stdout"
        }
      ]
    },
    {
      "cell_type": "code",
      "metadata": {
        "colab": {
          "base_uri": "https://localhost:8080/",
          "height": 265
        },
        "id": "K_mcRDDaRXjE",
        "outputId": "a072e20e-1dff-4b38-92bd-318c95889ca7"
      },
      "source": [
        "plot_perm(bi)"
      ],
      "execution_count": null,
      "outputs": [
        {
          "output_type": "display_data",
          "data": {
            "image/png": "[encoded data removed]",
            "text/plain": [
              "<Figure size 432x288 with 1 Axes>"
            ]
          },
          "metadata": {
            "tags": [],
            "needs_background": "light"
          }
        }
      ]
    },
    {
      "cell_type": "code",
      "metadata": {
        "colab": {
          "base_uri": "https://localhost:8080/",
          "height": 265
        },
        "id": "HqnohWGWRbXD",
        "outputId": "002f2009-6ef4-4648-8c82-aab495ff3bb4"
      },
      "source": [
        "for i in range(len(x)):\n",
        "  for j in range(len(x)):\n",
        "    if x[i][j].x == 1:\n",
        "      plt.plot([points[i][0],points[j][0]],[points[i][1],points[j][1]],'bo-')"
      ],
      "execution_count": null,
      "outputs": [
        {
          "output_type": "display_data",
          "data": {
            "image/png": "[encoded data removed]",
            "text/plain": [
              "<Figure size 432x288 with 1 Axes>"
            ]
          },
          "metadata": {
            "tags": [],
            "needs_background": "light"
          }
        }
      ]
    },
    {
      "cell_type": "code",
      "metadata": {
        "id": "ViZRjtz6Rdhs"
      },
      "source": [
        "def first_improvement(x,fobj):\n",
        "  x = x.copy()\n",
        "  best_val = np.inf\n",
        "  best_sol = []\n",
        "  improvement = True\n",
        "\n",
        "  while improvement:\n",
        "    improvement = False\n",
        "    for i in range(len(x)):\n",
        "      for j in range(i+1,len(x)):\n",
        "        x[i],x[j] = x[j],x[i]\n",
        "        val = fobj(x)\n",
        "        if val <= best_val:\n",
        "          print(best_val)\n",
        "          best_val = val\n",
        "          best_sol = x.copy()\n",
        "          improvement = True\n",
        "          break\n",
        "        x[i],x[j] = x[j],x[i]\n",
        "\n",
        "      if improvement:\n",
        "        break\n",
        "\n",
        "  return best_sol"
      ],
      "execution_count": null,
      "outputs": []
    },
    {
      "cell_type": "code",
      "metadata": {
        "colab": {
          "base_uri": "https://localhost:8080/"
        },
        "id": "MfkmaJJETWuv",
        "outputId": "e0064aa5-ad06-48e6-af46-7cdc92ca29a4"
      },
      "source": [
        "bi = best_improvement(greedy_r,tsp_perm)\n",
        "fi = first_improvement(greedy_r,tsp_perm)"
      ],
      "execution_count": null,
      "outputs": [
        {
          "output_type": "stream",
          "text": [
            "inf\n",
            "4.165627729246312\n",
            "4.1639075813665904\n",
            "4.024219709573646\n",
            "4.014845702872459\n",
            "3.991310512693614\n",
            "3.94742593473098\n",
            "3.7270731518143916\n",
            "3.4943794900662173\n",
            "3.4190558717633244\n",
            "3.383821283897326\n",
            "3.231795165546982\n",
            "3.2003174685907645\n",
            "3.1988859686669504\n",
            "3.0417924921130997\n",
            "3.0103147951568827\n",
            "3.008883295233068\n",
            "3.005324111724728\n",
            "2.882755694342091\n",
            "2.8822196701597322\n",
            "2.851146083836979\n",
            "inf\n",
            "4.165627729246312\n",
            "4.1460306522914685\n",
            "4.024219709573646\n",
            "4.014845702872459\n",
            "3.9940171910826843\n",
            "3.942262209005973\n",
            "3.8972310255620255\n",
            "3.660802794450456\n",
            "3.4750635178887763\n",
            "3.3525718120826236\n",
            "3.0750193615486103\n",
            "3.0557785528352963\n",
            "3.0228693559552653\n",
            "3.010244775021262\n"
          ],
          "name": "stdout"
        }
      ]
    },
    {
      "cell_type": "code",
      "metadata": {
        "colab": {
          "base_uri": "https://localhost:8080/"
        },
        "id": "j_RRbyihTgnw",
        "outputId": "5bc5ada0-df5a-4e10-d32a-62c057028b23"
      },
      "source": [
        "print('Greedy {}, {} , Model: {}'.format(greedy_r,tsp_perm(greedy_r),model.objective_value))\n",
        "print('BI {}, {} , Model: {}'.format(bi,tsp_perm(bi),model.objective_value))\n",
        "print('FI {}, {} , Model: {}'.format(fi,tsp_perm(fi),model.objective_value))"
      ],
      "execution_count": null,
      "outputs": [
        {
          "output_type": "stream",
          "text": [
            "Greedy [0, 8, 1, 2, 9, 10, 14, 11, 3, 12, 4, 7, 5, 13, 6], 4.348559590558463 , Model: 2.7729792445881674\n",
            "BI [2, 9, 4, 0, 8, 12, 10, 3, 14, 11, 6, 7, 13, 5, 1], 2.772979244588168 , Model: 2.7729792445881674\n",
            "FI [2, 9, 0, 8, 12, 10, 3, 14, 11, 6, 4, 7, 13, 5, 1], 2.8202421015873798 , Model: 2.7729792445881674\n"
          ],
          "name": "stdout"
        }
      ]
    },
    {
      "cell_type": "code",
      "metadata": {
        "colab": {
          "base_uri": "https://localhost:8080/",
          "height": 265
        },
        "id": "0D3aohXuVWj8",
        "outputId": "476fb47b-42be-472c-95b5-c995b0d04b25"
      },
      "source": [
        "plot_perm(bi)"
      ],
      "execution_count": null,
      "outputs": [
        {
          "output_type": "display_data",
          "data": {
            "image/png": "[encoded data removed]",
            "text/plain": [
              "<Figure size 432x288 with 1 Axes>"
            ]
          },
          "metadata": {
            "tags": [],
            "needs_background": "light"
          }
        }
      ]
    },
    {
      "cell_type": "code",
      "metadata": {
        "colab": {
          "base_uri": "https://localhost:8080/",
          "height": 265
        },
        "id": "0EyCTDdOVd5U",
        "outputId": "5e1a5bd8-54b0-4017-e6e0-10badbb3120f"
      },
      "source": [
        "plot_perm(fi)"
      ],
      "execution_count": null,
      "outputs": [
        {
          "output_type": "display_data",
          "data": {
            "image/png": "[encoded data removed]",
            "text/plain": [
              "<Figure size 432x288 with 1 Axes>"
            ]
          },
          "metadata": {
            "tags": [],
            "needs_background": "light"
          }
        }
      ]
    },
    {
      "cell_type": "code",
      "metadata": {
        "colab": {
          "base_uri": "https://localhost:8080/",
          "height": 265
        },
        "id": "HlKteGbpVfwk",
        "outputId": "bf6dee0a-a3ce-4315-aaf1-46224df8808d"
      },
      "source": [
        "plot_perm(greedy_r)"
      ],
      "execution_count": null,
      "outputs": [
        {
          "output_type": "display_data",
          "data": {
            "image/png": "[encoded data removed]",
            "text/plain": [
              "<Figure size 432x288 with 1 Axes>"
            ]
          },
          "metadata": {
            "tags": [],
            "needs_background": "light"
          }
        }
      ]
    },
    {
      "cell_type": "markdown",
      "metadata": {
        "id": "2u-iscAgze1s"
      },
      "source": [
        "## Branch and bound"
      ]
    },
    {
      "cell_type": "code",
      "metadata": {
        "id": "BuAot1irV9yD"
      },
      "source": [
        ""
      ],
      "execution_count": null,
      "outputs": []
    }
  ]
}